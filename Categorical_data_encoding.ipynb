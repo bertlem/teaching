{
 "cells": [
  {
   "cell_type": "code",
   "execution_count": 1,
   "id": "ac38cc2b-a1d7-4a75-adaf-10353586ddd2",
   "metadata": {},
   "outputs": [],
   "source": [
    "import numpy as np\n",
    "import pandas as pd"
   ]
  },
  {
   "cell_type": "markdown",
   "id": "0bacc0be-3166-4b57-8e74-195aac5a0c14",
   "metadata": {},
   "source": [
    "# Categorical data encoding"
   ]
  },
  {
   "cell_type": "markdown",
   "id": "9b193bed-6b26-4014-9161-94aa7cde3c93",
   "metadata": {},
   "source": [
    "In general, models/algoritms can only interpret and operate numerical data (via mathematics), not data stored in text form (\"categorical data\")."
   ]
  },
  {
   "cell_type": "markdown",
   "id": "979791aa-d62a-403a-b91c-3a4f08fe2e41",
   "metadata": {},
   "source": [
    "+ Linear regression use coefficients to decipher relationships between variables.\n",
    "+ Decision trees rely on numerical conditions for splitting nodes.\n",
    "+ Distance-based algorithms (K-Nearest Neighnors) calculate distance between data points.\n",
    "         \n",
    "+ Some model types (random forests, decision trees) can deal with categorical data as input, but they often perform better with numerical data."
   ]
  },
  {
   "cell_type": "markdown",
   "id": "018b9534-1718-4975-9617-88421fb4a561",
   "metadata": {},
   "source": [
    "**\"Feature encoding\"** is the process of transforming categorical data into numerical data."
   ]
  },
  {
   "cell_type": "markdown",
   "id": "466f61c7-9813-4f7d-b7fd-f2f26f59ddf9",
   "metadata": {},
   "source": [
    "## 1- CATEGORICAL VARIABLES"
   ]
  },
  {
   "cell_type": "markdown",
   "id": "30b9b817-75f2-4fe3-8c64-2a32084908a7",
   "metadata": {},
   "source": [
    "### 1.1 Nominal variables"
   ]
  },
  {
   "cell_type": "markdown",
   "id": "a4622358-2f43-48dd-959f-d9faed1393e9",
   "metadata": {},
   "source": [
    "**Nominal** variables are only names/labels, without specific order or hierarchy.\n",
    "\n",
    "Ex: \n",
    "+ 'Movie genre' is a nominal variable: \"Comedy\", \"Thriller\", \"Drama\", \"Crime\", \"Romance\", \"Fantasy\", \"Science fiction\", \"Western\", ...\n",
    "+ 'Weather condition' is a nominal variable: \"Sunny\", \"Rainy\", \"Windy\", \"Stormy\", \"Cloudy\", ...\n",
    "+ 'Geographical classification' is a nominal variable: \"Urban\", \"Suburban\", \"Rural\", ...\n",
    "+ 'Colors'\n",
    "+ 'Zip codes'\n",
    "+ ..."
   ]
  },
  {
   "cell_type": "code",
   "execution_count": 2,
   "id": "d48499ae-8d43-47a4-9d8a-86957a1e0d5a",
   "metadata": {},
   "outputs": [],
   "source": [
    "colors = ['Blue', 'Yellow', 'Green', 'Red', 'Blue', 'Green', 'Purple']"
   ]
  },
  {
   "cell_type": "markdown",
   "id": "bb7af085-df03-4d29-a553-a7d8d251137a",
   "metadata": {},
   "source": [
    "### 1.2 Ordinal variables"
   ]
  },
  {
   "cell_type": "markdown",
   "id": "2355c399-f098-4ce4-bd7a-6c91bbdabc21",
   "metadata": {},
   "source": [
    "**Ordinal** variables have an inherent order or hierarchy.\n",
    "\n",
    "Ex: \n",
    "+ 'Customer satisfaction' is an ordinal variable: \"Very satisfied\", \"Satisfied\", \"Neutral\", \"Dissatisfied\", \"Very dissatisfied\".\\\n",
    "  It is clear that \"Very satisfied\" represents a higher satisfaction level than \"Satisfied\", which in turn is higher than \"Neutral\", etc.\n",
    "+ 'Education level' is an ordinal variable: \"No degree\", \"Highschool\", \"Bachelor\", \"Master\", \"Doctorate\".\n",
    "+ 'Size' is an ordinal variable: \"Very small\", \"Small\", \"Medium\", \"Large\", \"Very large\".\n",
    "+ 'Movie ratings' is an ordinal variable, from \"One star\" to \"Five stars\"."
   ]
  },
  {
   "cell_type": "code",
   "execution_count": 3,
   "id": "66ee94f1-6928-4a13-b804-fd779cd11e51",
   "metadata": {},
   "outputs": [],
   "source": [
    "customer_satisfaction = [\"Very dissatisfied\", \"Dissatisfied\", \"Neutral\", \"Satisfied\", \"Very satisfied\"]"
   ]
  },
  {
   "cell_type": "markdown",
   "id": "2c860840-cf58-41c4-ac87-5d226cb21aad",
   "metadata": {},
   "source": [
    "Note:\n",
    "+ The distance between two consecutive categories is often not quantifiable.\n",
    "+ The distance between two consecutive categories is not necessarily the same, for instance it may differ between \"Very satisfied\" and \"Satisfied\", and between \"Satisfied\", \"neutral\". In other words, categories are not necessarily equally spaced."
   ]
  },
  {
   "cell_type": "markdown",
   "id": "c6f0a01d-b2a2-4fec-b45a-6b04f85b76e8",
   "metadata": {},
   "source": [
    "## 2- ENCODING TECHNIQUES"
   ]
  },
  {
   "cell_type": "markdown",
   "id": "c88943e9-e975-4f8e-bdfb-8004fda83ed6",
   "metadata": {},
   "source": [
    "### 2.1: Label encoding:"
   ]
  },
  {
   "cell_type": "markdown",
   "id": "66438980-4945-423e-8fb4-a6c4b94ef23b",
   "metadata": {},
   "source": [
    "Simply replaces categorical labels with numerical labels"
   ]
  },
  {
   "cell_type": "code",
   "execution_count": 4,
   "id": "69941010-237e-4a6b-81dd-29e54520b51c",
   "metadata": {},
   "outputs": [
    {
     "name": "stdout",
     "output_type": "stream",
     "text": [
      "colors:\n",
      " ['Blue', 'Yellow', 'Green', 'Red', 'Blue', 'Green', 'Purple']\n",
      "\n",
      "colors one-hot encoded:\n",
      " [0 4 1 3 0 1 2]\n",
      "['Blue', 'Yellow', 'Green', 'Red', 'Blue', 'Green', 'Purple']\n"
     ]
    }
   ],
   "source": [
    "from sklearn.preprocessing import LabelEncoder\n",
    "\n",
    "# print colors\n",
    "print('colors:\\n', colors)\n",
    "\n",
    "# define the encoder\n",
    "le = LabelEncoder()\n",
    "\n",
    "# fit the encoder and transform data\n",
    "encoded_colors = le.fit_transform(colors)\n",
    "\n",
    "# print the encoded colors\n",
    "print('\\ncolors one-hot encoded:\\n', encoded_colors)\n",
    "\n",
    "# inverse transformation\n",
    "print(list(le.inverse_transform(encoded_colors)))"
   ]
  },
  {
   "cell_type": "markdown",
   "id": "43fdf417-86e4-4cd5-9223-fb5e22a7502c",
   "metadata": {},
   "source": [
    "_Use case:_ Nominal variables.\\\n",
    "_Pros:_ Simple, No increase in dimensionality.\\\n",
    "_Cons:_ Can introduce artificial ordering/importance when used with nominal variables, and the arbitrary assignment may not reflect the true distance between categories."
   ]
  },
  {
   "cell_type": "markdown",
   "id": "088c0611-2f96-42d6-bde9-a77fd677d11d",
   "metadata": {},
   "source": [
    "### 2.2: One-Hot encoding:"
   ]
  },
  {
   "cell_type": "markdown",
   "id": "173d7939-a991-4a45-81dc-b24623216023",
   "metadata": {},
   "source": [
    "Creates new (as many as categories) binary (0 or 1) features\n",
    "Also known as 'dummy encoding'."
   ]
  },
  {
   "cell_type": "markdown",
   "id": "1f549e32-30a9-4e5c-bc76-6bffa844f10f",
   "metadata": {},
   "source": [
    "#### 2.2.1 with scikit-learn"
   ]
  },
  {
   "cell_type": "code",
   "execution_count": 5,
   "id": "f359b791-0f0c-4bc3-a032-faf8e02b0451",
   "metadata": {},
   "outputs": [],
   "source": [
    "from sklearn.preprocessing import OneHotEncoder"
   ]
  },
  {
   "cell_type": "code",
   "execution_count": 6,
   "id": "88de9282-c86d-4c67-b746-15798fa09bfe",
   "metadata": {},
   "outputs": [
    {
     "name": "stdout",
     "output_type": "stream",
     "text": [
      "['Blue', 'Yellow', 'Green', 'Red', 'Blue', 'Green', 'Purple']\n",
      "[[1. 0. 0. 0. 0.]\n",
      " [0. 0. 0. 0. 1.]\n",
      " [0. 1. 0. 0. 0.]\n",
      " [0. 0. 0. 1. 0.]\n",
      " [1. 0. 0. 0. 0.]\n",
      " [0. 1. 0. 0. 0.]\n",
      " [0. 0. 1. 0. 0.]]\n"
     ]
    }
   ],
   "source": [
    "# print colors\n",
    "print(colors)\n",
    "\n",
    "# define the encoder\n",
    "ohe = OneHotEncoder(sparse_output=False)\n",
    "\n",
    "# fit the encoder and transform data\n",
    "ohencoded_colors = ohe.fit_transform(np.array(colors).reshape(-1, 1))\n",
    "\n",
    "# print the encoded colors\n",
    "print(ohencoded_colors)"
   ]
  },
  {
   "cell_type": "markdown",
   "id": "2626e180-b959-4b67-8dcc-a9bc4a514c89",
   "metadata": {},
   "source": [
    "#### 2.2.2 with pandas"
   ]
  },
  {
   "cell_type": "code",
   "execution_count": 7,
   "id": "be710140-6448-4134-a2c1-b361fc9aec72",
   "metadata": {},
   "outputs": [
    {
     "name": "stdout",
     "output_type": "stream",
     "text": [
      "colors dataframe:\n",
      "     color\n",
      "0    Blue\n",
      "1  Yellow\n",
      "2   Green\n",
      "3     Red\n",
      "4    Blue\n",
      "5   Green\n",
      "6  Purple\n",
      "\n",
      "colors dataframe one-hot encoded:\n",
      "    is_Blue  is_Green  is_Purple  is_Red  is_Yellow\n",
      "0     True     False      False   False      False\n",
      "1    False     False      False   False       True\n",
      "2    False      True      False   False      False\n",
      "3    False     False      False    True      False\n",
      "4     True     False      False   False      False\n",
      "5    False      True      False   False      False\n",
      "6    False     False       True   False      False\n",
      "\n",
      "inverse transformation:\n",
      "        is\n",
      "0    Blue\n",
      "1  Yellow\n",
      "2   Green\n",
      "3     Red\n",
      "4    Blue\n",
      "5   Green\n",
      "6  Purple\n"
     ]
    }
   ],
   "source": [
    "# convert the array into a pandas dataframe\n",
    "colors_df = pd.DataFrame({'color': colors})\n",
    "\n",
    "# print the dataframe\n",
    "print('colors dataframe:\\n', colors_df)\n",
    "\n",
    "# encode the colors\n",
    "ohencoded_colors_df = pd.get_dummies(colors_df, prefix='is', prefix_sep='_', sparse=False)\n",
    "\n",
    "# print the encoded dataframe\n",
    "print('\\ncolors dataframe one-hot encoded:\\n',  ohencoded_colors_df)\n",
    "\n",
    "# inverse transformation\n",
    "print('\\ninverse transformation:\\n', pd.from_dummies(ohencoded_colors_df, sep='_'))"
   ]
  },
  {
   "cell_type": "markdown",
   "id": "0d54f48e-4751-4601-a2f9-6a64aa95c3af",
   "metadata": {},
   "source": [
    "_Use case:_ Nominal variables with a small number of categories.\\\n",
    "_Pros:_ Does not introduce artificial ordering/importance, easy interpretation.\\\n",
    "_Cons:_ Significant increase in dimensionality, can result in a sparse matrix (where most elements are 0)."
   ]
  },
  {
   "cell_type": "markdown",
   "id": "16bae213-d775-4649-90ca-5184a07462ef",
   "metadata": {},
   "source": [
    "### 2.3: Binary encoding:"
   ]
  },
  {
   "cell_type": "markdown",
   "id": "8e2e16f1-4db1-46a0-a0ea-de39654a3171",
   "metadata": {},
   "source": [
    "Categories are encoded in the binary numerical form, where numbers are represented using only 0 and 1.\\\n",
    "(0 is 0, 1 is 1, 2 is 10, 3 is 11, 4 is 100, 5 is 101, 6 is 110, etc)\\\n",
    "Binary encoding functions as follows:\\\n",
    "Category -- _label encoding_ --> Integer -- _binary encoding_ --> Binary number"
   ]
  },
  {
   "cell_type": "code",
   "execution_count": 8,
   "id": "295d8822-e923-4517-9bce-78832f13c254",
   "metadata": {},
   "outputs": [],
   "source": [
    "import category_encoders as ce"
   ]
  },
  {
   "cell_type": "markdown",
   "id": "293d0fcc-f798-40d0-82f6-4afc1b1eb06b",
   "metadata": {},
   "source": [
    "Category Encoders is a package containing scikit-learn style transformers, with pandas dfs as input/(output).\\\n",
    "Note: It can be useful to set sklearn.set_confing(transform_output='pandas')"
   ]
  },
  {
   "cell_type": "code",
   "execution_count": 9,
   "id": "9e19ac35-6ecd-4d2b-a072-6bfc2045f072",
   "metadata": {},
   "outputs": [
    {
     "name": "stdout",
     "output_type": "stream",
     "text": [
      "colors dataframe:\n",
      "     color\n",
      "0    Blue\n",
      "1  Yellow\n",
      "2   Green\n",
      "3     Red\n",
      "4    Blue\n",
      "5   Green\n",
      "6  Purple\n",
      "\n",
      "colors dataframe binary encoded:\n",
      "    color_0  color_1  color_2\n",
      "0        0        0        1\n",
      "1        0        1        0\n",
      "2        0        1        1\n",
      "3        1        0        0\n",
      "4        0        0        1\n",
      "5        0        1        1\n",
      "6        1        0        1\n",
      "\n",
      "inverse transformation:\n",
      "     color\n",
      "0    Blue\n",
      "1  Yellow\n",
      "2   Green\n",
      "3     Red\n",
      "4    Blue\n",
      "5   Green\n",
      "6  Purple\n"
     ]
    }
   ],
   "source": [
    "# print the dataframe\n",
    "print('colors dataframe:\\n', colors_df)\n",
    "\n",
    "# define the encoder\n",
    "bin_encoder = ce.BinaryEncoder(cols=['color'], return_df=True)\n",
    "\n",
    "# fit the encoder and transform data\n",
    "binencoded_colors_df = bin_encoder.fit_transform(colors_df)\n",
    "\n",
    "# print the encoded dataframe\n",
    "print('\\ncolors dataframe binary encoded:\\n',  binencoded_colors_df)\n",
    "\n",
    "# inverse transformation\n",
    "print('\\ninverse transformation:\\n', bin_encoder.inverse_transform(binencoded_colors_df))"
   ]
  },
  {
   "cell_type": "markdown",
   "id": "a5af251a-13c6-42a5-b986-c58d8efb1176",
   "metadata": {},
   "source": [
    "_Use case:_ Categorical variables with many categories.\\\n",
    "_Pros:_ Preserves more information than label encoding, dimensionality increases, but not as much as for One-Hot encoding.\\\n",
    "_Cons:_ Interpretation not straightforward, not suited for ordinal variables (order not preserved)."
   ]
  },
  {
   "cell_type": "markdown",
   "id": "29378b60-9070-4fdb-a446-ed6e8b2e8813",
   "metadata": {},
   "source": [
    "### 2.4: Ordinal encoding:"
   ]
  },
  {
   "cell_type": "markdown",
   "id": "e3e5e298-5f70-4c46-ab21-298ce2a31fd0",
   "metadata": {},
   "source": [
    "Each category is assigned an integer, respecting the inherent ordering of the categories."
   ]
  },
  {
   "cell_type": "markdown",
   "id": "f682a648-43e1-4576-a71f-a43993096257",
   "metadata": {},
   "source": [
    "#### 2.4.1 with scikit-learn"
   ]
  },
  {
   "cell_type": "code",
   "execution_count": 10,
   "id": "2eb08b2c-a9c1-47a6-ac71-0005b6bae883",
   "metadata": {},
   "outputs": [],
   "source": [
    "from sklearn.preprocessing import OrdinalEncoder"
   ]
  },
  {
   "cell_type": "code",
   "execution_count": 11,
   "id": "b8e70032-f0b2-467e-a45f-9932db7133fe",
   "metadata": {},
   "outputs": [
    {
     "name": "stdout",
     "output_type": "stream",
     "text": [
      "customer satisfaction\n",
      " ['Very dissatisfied', 'Dissatisfied', 'Neutral', 'Satisfied', 'Very satisfied']\n",
      "\n",
      "fake data:\n",
      "     customer       satisfaction\n",
      "0  customer1            Neutral\n",
      "1  customer2          Satisfied\n",
      "2  customer3     Very satisfied\n",
      "3  customer4  Very dissatisfied\n",
      "4  customer5       Dissatisfied\n",
      "\n",
      "dataordinal encoded:\n",
      " [[2.]\n",
      " [3.]\n",
      " [4.]\n",
      " [0.]\n",
      " [1.]]\n",
      "\n",
      "inverse transformation:\n",
      " [['Neutral']\n",
      " ['Satisfied']\n",
      " ['Very satisfied']\n",
      " ['Very dissatisfied']\n",
      " ['Dissatisfied']]\n"
     ]
    }
   ],
   "source": [
    "# print customer satisfaction categories\n",
    "print('customer satisfaction\\n', customer_satisfaction)\n",
    "\n",
    "# create fake data\n",
    "cust = ['customer1', 'customer2', 'customer3', 'customer4', 'customer5']\n",
    "sat = ['Neutral', 'Satisfied', 'Very satisfied', 'Very dissatisfied', 'Dissatisfied']\n",
    "data = pd.DataFrame(list(zip(cust,sat)), columns=['customer', 'satisfaction'])\n",
    "\n",
    "# print fake data\n",
    "print('\\nfake data:\\n', data)\n",
    "\n",
    "# define the encoder\n",
    "# Note that we need to provide the ordered categories to the encoder\n",
    "ord_encoder = OrdinalEncoder(categories=[[\"Very dissatisfied\", \"Dissatisfied\", \"Neutral\", \"Satisfied\", \"Very satisfied\"]])\n",
    "\n",
    "# fit the encoder and transform data\n",
    "# Note that we need to provide one ordered category for each column\n",
    "# Since we are planning to order only the \"satisfaction column\", we drop the first column instead\n",
    "ordencoded_data = ord_encoder.fit_transform(data.drop(columns=['customer']))\n",
    "\n",
    "# print the encoded column\n",
    "print('\\ndataordinal encoded:\\n',  ordencoded_data)\n",
    "\n",
    "# inverse transformation\n",
    "print('\\ninverse transformation:\\n', ord_encoder.inverse_transform(ordencoded_data))"
   ]
  },
  {
   "cell_type": "markdown",
   "id": "f5cd8ea0-7b3c-49ec-b719-24e56f46205c",
   "metadata": {},
   "source": [
    "#### 2.4.2 with category_encoders"
   ]
  },
  {
   "cell_type": "code",
   "execution_count": 12,
   "id": "e7ccc222-d8ac-434d-ac16-a71dd11d7616",
   "metadata": {},
   "outputs": [],
   "source": [
    "from category_encoders import OrdinalEncoder"
   ]
  },
  {
   "cell_type": "code",
   "execution_count": 13,
   "id": "e16f4948-f2df-464c-87de-345bc3928252",
   "metadata": {},
   "outputs": [
    {
     "name": "stdout",
     "output_type": "stream",
     "text": [
      "\n",
      "dataordinal encoded:\n",
      "     customer  satisfaction\n",
      "0  customer1             2\n",
      "1  customer2             3\n",
      "2  customer3             4\n",
      "3  customer4             0\n",
      "4  customer5             1\n",
      "\n",
      "inverse transformation:\n",
      "     customer       satisfaction\n",
      "0  customer1            Neutral\n",
      "1  customer2          Satisfied\n",
      "2  customer3     Very satisfied\n",
      "3  customer4  Very dissatisfied\n",
      "4  customer5       Dissatisfied\n"
     ]
    }
   ],
   "source": [
    "# define the ordering scheme\n",
    "order = [{'col': 'satisfaction', # NAME OF THE COLUMN IN THE DATAFRAME\n",
    "              'mapping': {'Very dissatisfied':0,\n",
    "                          'Dissatisfied':1,\n",
    "                          'Neutral':2,\n",
    "                          'Satisfied':3,\n",
    "                          'Very satisfied':4}\n",
    "             }]\n",
    "# define the encoder\n",
    "ord_encoder = ce.OrdinalEncoder(mapping=order)\n",
    "\n",
    "# fit the encoder and transform data\n",
    "result = ord_encoder.fit_transform(data)\n",
    "\n",
    "# print the encoded dataframe\n",
    "print('\\ndataordinal encoded:\\n',  result)\n",
    "\n",
    "# inverse transformation\n",
    "print('\\ninverse transformation:\\n', ord_encoder.inverse_transform(result))"
   ]
  },
  {
   "cell_type": "markdown",
   "id": "06f9c6c6-8af0-429c-8c3b-2c2460b9fffd",
   "metadata": {},
   "source": [
    "### 2.4.3 with pandas"
   ]
  },
  {
   "cell_type": "code",
   "execution_count": 14,
   "id": "50cef3e8-1ef3-4aa4-b17f-57be259d6bee",
   "metadata": {},
   "outputs": [
    {
     "name": "stdout",
     "output_type": "stream",
     "text": [
      "\n",
      "dataordinal encoded:\n",
      "     customer       satisfaction  oe_satisfaction\n",
      "0  customer1            Neutral                2\n",
      "1  customer2          Satisfied                3\n",
      "2  customer3     Very satisfied                4\n",
      "3  customer4  Very dissatisfied                0\n",
      "4  customer5       Dissatisfied                1\n"
     ]
    }
   ],
   "source": [
    "# create a dictionnary and map the desired column\n",
    "order_dict={'Very dissatisfied':0,\n",
    "            'Dissatisfied':1,\n",
    "            'Neutral':2,\n",
    "            'Satisfied':3,\n",
    "            'Very satisfied':4}\n",
    "result = data.copy()\n",
    "result['oe_satisfaction'] = data.satisfaction.map(order_dict)\n",
    "\n",
    "# print the encoded dataframe\n",
    "print('\\ndataordinal encoded:\\n',  result)"
   ]
  },
  {
   "cell_type": "markdown",
   "id": "ae998d6c-22c6-468f-a438-479677208700",
   "metadata": {},
   "source": [
    "_Use case:_ Ordinal variables.\\\n",
    "_Pros:_ Preserves ordinal information, does not increase dimensionality.\\\n",
    "_Cons:_ Does not reflect the magnitude of the difference between categories, not suited for nominal variables."
   ]
  },
  {
   "cell_type": "markdown",
   "id": "93ca5d9b-11a6-41c6-b79c-59d49a7d27c3",
   "metadata": {},
   "source": [
    "### 2.5: Frequency encoding:"
   ]
  },
  {
   "cell_type": "markdown",
   "id": "d6183766-63f0-4b6b-9131-6f3867b92dcd",
   "metadata": {},
   "source": [
    "Individual categories are replaced by their frequency"
   ]
  },
  {
   "cell_type": "code",
   "execution_count": 18,
   "id": "d07d034f-53ad-49e0-b680-0b079f2e33b8",
   "metadata": {},
   "outputs": [
    {
     "name": "stdout",
     "output_type": "stream",
     "text": [
      "colors dataframe:\n",
      "     color\n",
      "0    Blue\n",
      "1  Yellow\n",
      "2   Green\n",
      "3     Red\n",
      "4    Blue\n",
      "5   Green\n",
      "6  Purple\n",
      "\n",
      "frequency encoded dataframe:\n",
      "     color  freq_encoding\n",
      "0    Blue       0.285714\n",
      "1  Yellow       0.142857\n",
      "2   Green       0.285714\n",
      "3     Red       0.142857\n",
      "4    Blue       0.285714\n",
      "5   Green       0.285714\n",
      "6  Purple       0.142857\n"
     ]
    }
   ],
   "source": [
    "# convert the array into a pandas dataframe\n",
    "colors_df = pd.DataFrame({'color': colors})\n",
    "\n",
    "# print the dataframe\n",
    "print('colors dataframe:\\n', colors_df)\n",
    "\n",
    "# compute the frequency of each category\n",
    "freq = colors_df.color.value_counts(normalize=True)\n",
    "\n",
    "# Map the frequencies to the category\n",
    "freq_encoded = colors_df.copy()\n",
    "freq_encoded['freq_encoding'] = freq_encoded.color.map(freq)\n",
    "\n",
    "# print the dataframe\n",
    "print('\\nfrequency encoded dataframe:\\n', freq_encoded)"
   ]
  },
  {
   "cell_type": "markdown",
   "id": "3f7d18b5-2e83-4cd4-bbaf-1521a493b094",
   "metadata": {},
   "source": [
    "_Use case:_ Nominal variables with high cardinality.\\\n",
    "_Pros:_ Can deal with high cardinality, does not increase dimensionality.\\\n",
    "_Cons:_ Loss of categorical information, several categories may have the same frequency, can be nisleading if the distribution of frequencies does not reflect the meaning of the category."
   ]
  },
  {
   "cell_type": "code",
   "execution_count": 16,
   "id": "f88473b4-f30d-49e4-8929-b379b57c6604",
   "metadata": {},
   "outputs": [],
   "source": [
    "### 2.6: Mean encoding:"
   ]
  },
  {
   "cell_type": "markdown",
   "id": "0586b77e-2395-45a2-b34e-390677e025d5",
   "metadata": {},
   "source": [
    "Individual categories are replaced by the mean value of the target variable"
   ]
  },
  {
   "cell_type": "code",
   "execution_count": 17,
   "id": "3350f8f4-ecfb-42ca-a720-8432b1a9c0fe",
   "metadata": {},
   "outputs": [
    {
     "name": "stdout",
     "output_type": "stream",
     "text": [
      "\n",
      "colors dataframe:\n",
      "     color  target\n",
      "0    Blue     200\n",
      "1  Yellow    1000\n",
      "2   Green     600\n",
      "3     Red     100\n",
      "4    Blue     400\n",
      "5   Green     800\n",
      "6  Purple    2000\n",
      "\n",
      "mean encoded dataframe:\n",
      "     color  target  mean_encoding\n",
      "0    Blue     200          300.0\n",
      "1  Yellow    1000         1000.0\n",
      "2   Green     600          700.0\n",
      "3     Red     100          100.0\n",
      "4    Blue     400          300.0\n",
      "5   Green     800          700.0\n",
      "6  Purple    2000         2000.0\n"
     ]
    }
   ],
   "source": [
    "# convert the array into a pandas dataframe\n",
    "colors_df = pd.DataFrame({'color': colors})\n",
    "\n",
    "# Add some target data\n",
    "colors_df['target'] = [200, 1000, 600, 100, 400, 800, 2000]\n",
    "\n",
    "# print the dataframe\n",
    "print('\\ncolors dataframe:\\n', colors_df)\n",
    "\n",
    "# compute the target mean value for each category\n",
    "mean = colors_df.groupby('color')['target'].mean()\n",
    "\n",
    "# Map the mean values to the category\n",
    "mean_encoded = colors_df.copy()\n",
    "mean_encoded['mean_encoding'] = mean_encoded.color.map(mean)\n",
    "\n",
    "# print the dataframe\n",
    "print('\\nmean encoded dataframe:\\n', mean_encoded)"
   ]
  },
  {
   "cell_type": "markdown",
   "id": "59b7aa9c-4ee3-44ec-88b1-20d3c3727d3e",
   "metadata": {},
   "source": [
    "_Use case:_ Nominal variables with high cardinality.\\\n",
    "_Pros:_ May capture complex relationships (non-linear, interaction effects) between the categorical variable and the target variable.\\\n",
    "_Cons:_ Risk of overfitting, especially with small datasest or when rare categories are present."
   ]
  },
  {
   "cell_type": "markdown",
   "id": "07ccc865-bf9f-4188-a2c7-db74d82250a2",
   "metadata": {},
   "source": [
    "## 3- RISKS AND ADVANTAGES"
   ]
  },
  {
   "cell_type": "markdown",
   "id": "1e65883d-d8e0-4f62-ab70-ae4f6df95601",
   "metadata": {},
   "source": [
    "### 3.1 Risks to consider:"
   ]
  },
  {
   "cell_type": "markdown",
   "id": "0f677b09-3a33-4577-88cc-3e8774550743",
   "metadata": {},
   "source": [
    "1. _Encoding misinterpretation:_\n",
    "\n",
    "   Ex: To perform encoding, we assign 1 to 'green', 2 to 'blue', 3 to 'red'.\n",
    "   The model could assume (wrongly) that 'blue' is twice as significant as 'green' and 'red' thrice as significant as 'green' and produce wrong predictions."
   ]
  },
  {
   "cell_type": "markdown",
   "id": "396a1b80-904f-40c0-9f36-27d935d52fe8",
   "metadata": {},
   "source": [
    "2. _High cardinality:_\n",
    "\n",
    "   The dataset contains a large number of unique categories in a given variable (like 'City', 'Zip code', 'Lastname', ...)\n",
    "\n",
    "   Ex 1: Encoding this variable using One-Hot Encoding may lead to an extremely large array containing mostly NaNs.\n",
    "   This is computationnally expensive, and may confuse the algorithm.\n",
    "\n",
    "   Ex 2: To avoid this bias, one may turn to more simplistic encoding methods, which may lead to underfitting (the encoding is too simplistic and crucial information has been lost) or overfitting (the model is biased towards the more frequent categories)."
   ]
  },
  {
   "cell_type": "markdown",
   "id": "06576ae8-33c9-4417-bfdc-2a8c41f8f7e6",
   "metadata": {},
   "source": [
    "3. _Unseen data:_\n",
    "\n",
    "   Ex: The training data contains the categories 'green',  'blue', 'red'.\n",
    "       The testing data contains the categories 'green',  'blue', 'red', 'yellow', 'purple'.\n",
    "   The model has no knowledge of the new categories, and does not know how to deal with them, which may lead to wrong predictions.\n",
    "   Such a model is not robust on unseen data."
   ]
  },
  {
   "cell_type": "markdown",
   "id": "25c5b2c7-1644-4022-82af-0eff410af8a8",
   "metadata": {},
   "source": [
    "4. _Overfitting with rare categories:_\n",
    "\n",
    "   Ex: If rare categories have a strong influence on the variable we want to predict, the model may adjust to these rare instances, and perform poorly on unseen data."
   ]
  },
  {
   "cell_type": "markdown",
   "id": "531c90e8-bea4-4a91-b3de-3c0b930388a7",
   "metadata": {},
   "source": [
    "5. _Data leakage:_\n",
    "\n",
    "   Information from outside the training data is used to create the model.\n",
    "\n",
    "   Ex: perform 'mean encoding' before splitting the data in train/test data.  "
   ]
  },
  {
   "cell_type": "markdown",
   "id": "f5e1ab09-b5fc-4f5d-af56-77b6b389ab40",
   "metadata": {},
   "source": [
    "### 3.2 Advantages:"
   ]
  },
  {
   "cell_type": "markdown",
   "id": "6d820479-dc5f-44e4-ba35-6b480e72a210",
   "metadata": {},
   "source": [
    "In general, models including categorical data encoding:\n",
    "+ perform better (in terms of quality of the prediction and processing time)\n",
    "+ are more robust when dealing with unseen data with categories not present in the training data\n",
    "+ provide more informative feature importance"
   ]
  },
  {
   "cell_type": "markdown",
   "id": "97556c79-7596-4492-9ecc-14fed41e91de",
   "metadata": {},
   "source": [
    "### 3.3 Tips:"
   ]
  },
  {
   "cell_type": "markdown",
   "id": "d8d06277-9c66-4cd2-805c-7ba8ab3f61b2",
   "metadata": {},
   "source": [
    "+ It is not always straightforward which encoding method is the best. Trying various methods and comparing model performance can solve this issue.\n",
    "+ There are dimensionality reduction techniques (PCA, t-sne) that can be applied after encoding, in case the dimensionality becomes too large.\n",
    "+ Rare categories are often problematic. Frequency encoding might help, by assigning them a low frequency. It may be worth grouping rare categories into a generic one ('other') before encoding.\n",
    "+ The category_encoders package contains more 'exotic' encoding algorithms, often with fancy mathematical definitions"
   ]
  }
 ],
 "metadata": {
  "kernelspec": {
   "display_name": "Python 3 (ipykernel)",
   "language": "python",
   "name": "python3"
  },
  "language_info": {
   "codemirror_mode": {
    "name": "ipython",
    "version": 3
   },
   "file_extension": ".py",
   "mimetype": "text/x-python",
   "name": "python",
   "nbconvert_exporter": "python",
   "pygments_lexer": "ipython3",
   "version": "3.12.0"
  }
 },
 "nbformat": 4,
 "nbformat_minor": 5
}
