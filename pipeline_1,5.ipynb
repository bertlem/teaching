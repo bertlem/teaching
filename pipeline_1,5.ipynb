{
 "cells": [
  {
   "cell_type": "code",
   "execution_count": 1,
   "id": "815549be-f64d-4bd3-aeb3-3d4be21a31a7",
   "metadata": {},
   "outputs": [],
   "source": [
    "import numpy as np\n",
    "import pandas as pd\n",
    "import seaborn as sns"
   ]
  },
  {
   "cell_type": "markdown",
   "id": "4e2ff801-07a4-41bf-81ac-f520cc7907ce",
   "metadata": {},
   "source": [
    "Goals:\\\n",
    "- Use encoding methods\n",
    "- Build a scikit-learn pipeline\n",
    "- feature engineering"
   ]
  },
  {
   "cell_type": "code",
   "execution_count": 28,
   "id": "592c8d78-1ffd-4290-8aaf-5074c621f557",
   "metadata": {},
   "outputs": [],
   "source": [
    "# load dataset titanic\n",
    "path_data = '/home/lemasle/PROJECTS/data/Kaggle_Titanic-Machine_Learning_from_Disaster/'\n",
    "# Some columns include nans, we import them as strings\n",
    "input_train = pd.read_csv(path_data+'train.csv', na_values=['NaN'])\n",
    "input_test = pd.read_csv(path_data+'test.csv'), na_values=['NaN'])"
   ]
  },
  {
   "cell_type": "code",
   "execution_count": 3,
   "id": "45b47267-0b32-42ce-8340-b5bcef9cd320",
   "metadata": {},
   "outputs": [
    {
     "data": {
      "text/html": [
       "<div>\n",
       "<style scoped>\n",
       "    .dataframe tbody tr th:only-of-type {\n",
       "        vertical-align: middle;\n",
       "    }\n",
       "\n",
       "    .dataframe tbody tr th {\n",
       "        vertical-align: top;\n",
       "    }\n",
       "\n",
       "    .dataframe thead th {\n",
       "        text-align: right;\n",
       "    }\n",
       "</style>\n",
       "<table border=\"1\" class=\"dataframe\">\n",
       "  <thead>\n",
       "    <tr style=\"text-align: right;\">\n",
       "      <th></th>\n",
       "      <th>PassengerId</th>\n",
       "      <th>Survived</th>\n",
       "      <th>Pclass</th>\n",
       "      <th>Name</th>\n",
       "      <th>Sex</th>\n",
       "      <th>Age</th>\n",
       "      <th>SibSp</th>\n",
       "      <th>Parch</th>\n",
       "      <th>Ticket</th>\n",
       "      <th>Fare</th>\n",
       "      <th>Cabin</th>\n",
       "      <th>Embarked</th>\n",
       "    </tr>\n",
       "  </thead>\n",
       "  <tbody>\n",
       "    <tr>\n",
       "      <th>0</th>\n",
       "      <td>1</td>\n",
       "      <td>0</td>\n",
       "      <td>3</td>\n",
       "      <td>Braund, Mr. Owen Harris</td>\n",
       "      <td>male</td>\n",
       "      <td>22.0</td>\n",
       "      <td>1</td>\n",
       "      <td>0</td>\n",
       "      <td>A/5 21171</td>\n",
       "      <td>7.2500</td>\n",
       "      <td>NaN</td>\n",
       "      <td>S</td>\n",
       "    </tr>\n",
       "    <tr>\n",
       "      <th>1</th>\n",
       "      <td>2</td>\n",
       "      <td>1</td>\n",
       "      <td>1</td>\n",
       "      <td>Cumings, Mrs. John Bradley (Florence Briggs Th...</td>\n",
       "      <td>female</td>\n",
       "      <td>38.0</td>\n",
       "      <td>1</td>\n",
       "      <td>0</td>\n",
       "      <td>PC 17599</td>\n",
       "      <td>71.2833</td>\n",
       "      <td>C85</td>\n",
       "      <td>C</td>\n",
       "    </tr>\n",
       "    <tr>\n",
       "      <th>2</th>\n",
       "      <td>3</td>\n",
       "      <td>1</td>\n",
       "      <td>3</td>\n",
       "      <td>Heikkinen, Miss. Laina</td>\n",
       "      <td>female</td>\n",
       "      <td>26.0</td>\n",
       "      <td>0</td>\n",
       "      <td>0</td>\n",
       "      <td>STON/O2. 3101282</td>\n",
       "      <td>7.9250</td>\n",
       "      <td>NaN</td>\n",
       "      <td>S</td>\n",
       "    </tr>\n",
       "    <tr>\n",
       "      <th>3</th>\n",
       "      <td>4</td>\n",
       "      <td>1</td>\n",
       "      <td>1</td>\n",
       "      <td>Futrelle, Mrs. Jacques Heath (Lily May Peel)</td>\n",
       "      <td>female</td>\n",
       "      <td>35.0</td>\n",
       "      <td>1</td>\n",
       "      <td>0</td>\n",
       "      <td>113803</td>\n",
       "      <td>53.1000</td>\n",
       "      <td>C123</td>\n",
       "      <td>S</td>\n",
       "    </tr>\n",
       "    <tr>\n",
       "      <th>4</th>\n",
       "      <td>5</td>\n",
       "      <td>0</td>\n",
       "      <td>3</td>\n",
       "      <td>Allen, Mr. William Henry</td>\n",
       "      <td>male</td>\n",
       "      <td>35.0</td>\n",
       "      <td>0</td>\n",
       "      <td>0</td>\n",
       "      <td>373450</td>\n",
       "      <td>8.0500</td>\n",
       "      <td>NaN</td>\n",
       "      <td>S</td>\n",
       "    </tr>\n",
       "  </tbody>\n",
       "</table>\n",
       "</div>"
      ],
      "text/plain": [
       "   PassengerId  Survived  Pclass  \\\n",
       "0            1         0       3   \n",
       "1            2         1       1   \n",
       "2            3         1       3   \n",
       "3            4         1       1   \n",
       "4            5         0       3   \n",
       "\n",
       "                                                Name     Sex   Age  SibSp  \\\n",
       "0                            Braund, Mr. Owen Harris    male  22.0      1   \n",
       "1  Cumings, Mrs. John Bradley (Florence Briggs Th...  female  38.0      1   \n",
       "2                             Heikkinen, Miss. Laina  female  26.0      0   \n",
       "3       Futrelle, Mrs. Jacques Heath (Lily May Peel)  female  35.0      1   \n",
       "4                           Allen, Mr. William Henry    male  35.0      0   \n",
       "\n",
       "   Parch            Ticket     Fare Cabin Embarked  \n",
       "0      0         A/5 21171   7.2500   NaN        S  \n",
       "1      0          PC 17599  71.2833   C85        C  \n",
       "2      0  STON/O2. 3101282   7.9250   NaN        S  \n",
       "3      0            113803  53.1000  C123        S  \n",
       "4      0            373450   8.0500   NaN        S  "
      ]
     },
     "execution_count": 3,
     "metadata": {},
     "output_type": "execute_result"
    }
   ],
   "source": [
    "input_train.head()"
   ]
  },
  {
   "cell_type": "markdown",
   "id": "f6927f42-e37f-4cd3-b99a-60492b47c9be",
   "metadata": {},
   "source": [
    "PassengerId\n",
    "Survived: Survival \t (0 = No, 1 = Yes)\\\n",
    "Pclass:   Ticket class (1 = 1st, 2 = 2nd, 3 = 3rd)\\\n",
    "Name:     Name\\\n",
    "Sex:      Sex\\\n",
    "Age:      Age in years\\\n",
    "Sibsp:    Number of siblings/spouses aboard the Titanic\\\n",
    "Parch:    Number of parents / children aboard the Titanic\\\n",
    "Ticket:   Ticket number\\\n",
    "Fare:     Passenger fare\\\n",
    "Cabin:    Cabin number\\\n",
    "Embarked: Port of Embarkation (C = Cherbourg, Q = Queenstown, S = Southampton)"
   ]
  },
  {
   "cell_type": "markdown",
   "id": "99e757b9-d1da-4e41-b767-8cfc50da0a3e",
   "metadata": {},
   "source": [
    "\"PassengerId\" is an internal label of the dataset - it can be discarded.\\\n",
    "\"Name\" should not have any influence on the survival, we decide to discard it. Note however that it contains some information, sometimes redundant (Mr, Mrs), sometimes not (Dr).\\\n",
    "\"Ticket\"  is simply a label, with no influence on the survival. The ticket label may refer to the location/price of the cabin, but this information is inluded in te \"Fare\" and \"Cabin\" columns: So we discard \"Ticket as well.\""
   ]
  },
  {
   "cell_type": "code",
   "execution_count": 4,
   "id": "6b2d4bd9-89cb-450b-a892-1b1141f8cac8",
   "metadata": {},
   "outputs": [],
   "source": [
    "def remove_columns(df):\n",
    "\n",
    "    df.drop(columns=[\"PassengerId\", \"Name\", \"Ticket\"], inplace=True)\n",
    "\n",
    "    return df"
   ]
  },
  {
   "cell_type": "code",
   "execution_count": 5,
   "id": "3c8072da-ca64-43ef-9ccd-83d4592215aa",
   "metadata": {},
   "outputs": [
    {
     "name": "stdout",
     "output_type": "stream",
     "text": [
      "<class 'pandas.core.frame.DataFrame'>\n",
      "RangeIndex: 891 entries, 0 to 890\n",
      "Data columns (total 12 columns):\n",
      " #   Column       Non-Null Count  Dtype  \n",
      "---  ------       --------------  -----  \n",
      " 0   PassengerId  891 non-null    int64  \n",
      " 1   Survived     891 non-null    int64  \n",
      " 2   Pclass       891 non-null    int64  \n",
      " 3   Name         891 non-null    object \n",
      " 4   Sex          891 non-null    object \n",
      " 5   Age          714 non-null    float64\n",
      " 6   SibSp        891 non-null    int64  \n",
      " 7   Parch        891 non-null    int64  \n",
      " 8   Ticket       891 non-null    object \n",
      " 9   Fare         891 non-null    float64\n",
      " 10  Cabin        204 non-null    object \n",
      " 11  Embarked     889 non-null    object \n",
      "dtypes: float64(2), int64(5), object(5)\n",
      "memory usage: 83.7+ KB\n"
     ]
    }
   ],
   "source": [
    "input_train.info()"
   ]
  },
  {
   "cell_type": "markdown",
   "id": "8aa48d15-76c9-4d3b-a8f1-fefbd7b5ea5c",
   "metadata": {},
   "source": [
    "\"Age\" contains a good number (a bit more than 150) of missing values (NaNs).\\\n",
    "However 2/3rd of the rows contain potentially useful data (very young/very old people probably have a lower chance of survival), so it would be painful to remove the entire column.\\\n",
    "It is possible to fill missing values with the mean or median age, but that would induce data leakage: rows in the train (respectively test) data would get clues about the ages in the test (respectively train) data."
   ]
  },
  {
   "cell_type": "code",
   "execution_count": 31,
   "id": "37d170bd-6e44-4c99-b62f-4c6c693d8248",
   "metadata": {},
   "outputs": [],
   "source": [
    "# TBD age"
   ]
  },
  {
   "cell_type": "code",
   "execution_count": null,
   "id": "bc70470e-9540-4e66-a882-8818f6c94362",
   "metadata": {},
   "outputs": [],
   "source": []
  },
  {
   "cell_type": "markdown",
   "id": "6e95a32a-17ee-46bc-b2e4-7e04f381abf6",
   "metadata": {},
   "source": [
    "\"Cabin\" contains a lot (almost 700) of missing values.\\\n",
    "We could remove the entire column, but we would then loose some (potentially useful) information.\\\n",
    "Instead, we can transform this columns to a boolean indicating whether cabin information is available (1) or not (0).\\\n",
    "This is not much information, but better than nothing."
   ]
  },
  {
   "cell_type": "code",
   "execution_count": 29,
   "id": "fabcab5f-0106-4d69-ac40-a4ba0be31873",
   "metadata": {},
   "outputs": [],
   "source": [
    "def cabin_to_boolean(df):\n",
    "    \n",
    "    df['Cabin'] = np.where(df['Cabin'].isna(), 0.0, 1.0)\n",
    "    \n",
    "    return df"
   ]
  },
  {
   "cell_type": "markdown",
   "id": "afc675c5-1ef1-4507-b20e-0a3ef928e1c0",
   "metadata": {},
   "source": [
    "\"Embarked\" contains only two missing values.\\\n",
    "We could always consider removing the two corresponding rows, which would have little impact if they correspond to well-represented passenger profiles, but a higher impact if they happen to be rare occurences of a specific profile.\\\n",
    "Instead, we can impute them the most frequent embarkment spot, the hypotheses being that i) we still have a good chance that this arbitrary assignment is correct ii) the model will still perform better with two potentially wrong embarkment spots than with two full passenger profiles deleted."
   ]
  },
  {
   "cell_type": "code",
   "execution_count": null,
   "id": "2fc0cc0f-288f-4e49-928a-38373a641065",
   "metadata": {},
   "outputs": [],
   "source": [
    "# TBD embarkment impute most frequent."
   ]
  },
  {
   "cell_type": "code",
   "execution_count": null,
   "id": "663880ac-65c9-4f74-ba09-15f2b4ebe022",
   "metadata": {},
   "outputs": [],
   "source": []
  },
  {
   "cell_type": "code",
   "execution_count": null,
   "id": "6ac624d3-6e71-403c-ac74-fb841670cf1b",
   "metadata": {},
   "outputs": [],
   "source": []
  },
  {
   "cell_type": "code",
   "execution_count": null,
   "id": "051d086d-f5c6-4fc5-99ea-ab343685293a",
   "metadata": {},
   "outputs": [],
   "source": [
    "def preformat(df_init):\n",
    "    df = df_init.copy()\n",
    "    df.loc[:,'relevent_experience'] = df['relevent_experience'].map(relevant_experience_map)\n",
    "    df.loc[:,'last_new_job'] = df['last_new_job'].map(last_new_job_map)\n",
    "    df.loc[:,'experience'] = df['experience'].map(experience_map)\n",
    "\n",
    "    return dfdf.drop"
   ]
  },
  {
   "cell_type": "code",
   "execution_count": null,
   "id": "3d709ff2-aaa9-4d43-9a21-7a8b975bebae",
   "metadata": {},
   "outputs": [],
   "source": [
    "from sklearn.preprocessing import FunctionTransformer\n",
    "preformater = FunctionTransformer(preformat)\n",
    "test = preformater.transform(data)"
   ]
  },
  {
   "cell_type": "code",
   "execution_count": null,
   "id": "3e5707ba-9fd8-425f-8e85-9a613b02798b",
   "metadata": {},
   "outputs": [],
   "source": []
  },
  {
   "cell_type": "code",
   "execution_count": null,
   "id": "4a091e47-d454-437d-8b59-a3ccf52d2532",
   "metadata": {},
   "outputs": [],
   "source": []
  },
  {
   "cell_type": "code",
   "execution_count": null,
   "id": "ef58cdb9-a28c-4c6d-97ca-556494d6cd6c",
   "metadata": {},
   "outputs": [],
   "source": []
  },
  {
   "cell_type": "code",
   "execution_count": null,
   "id": "d012d333-1d13-406d-9e88-cc1a0cb80eb7",
   "metadata": {},
   "outputs": [],
   "source": []
  },
  {
   "cell_type": "code",
   "execution_count": null,
   "id": "ae19f908-06c5-4077-bd07-71184574116b",
   "metadata": {},
   "outputs": [],
   "source": [
    "# feature engineering: title"
   ]
  }
 ],
 "metadata": {
  "kernelspec": {
   "display_name": "Python 3 (ipykernel)",
   "language": "python",
   "name": "python3"
  },
  "language_info": {
   "codemirror_mode": {
    "name": "ipython",
    "version": 3
   },
   "file_extension": ".py",
   "mimetype": "text/x-python",
   "name": "python",
   "nbconvert_exporter": "python",
   "pygments_lexer": "ipython3",
   "version": "3.12.0"
  }
 },
 "nbformat": 4,
 "nbformat_minor": 5
}
